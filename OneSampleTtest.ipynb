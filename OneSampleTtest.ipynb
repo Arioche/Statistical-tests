{
 "cells": [
  {
   "cell_type": "code",
   "execution_count": 53,
   "id": "7b8b9c97",
   "metadata": {},
   "outputs": [],
   "source": [
    "# Import the necessary libraries\n",
    "import pandas as pd\n",
    "from scipy.stats import shapiro, ttest_1samp"
   ]
  },
  {
   "cell_type": "code",
   "execution_count": 54,
   "id": "35ce298d",
   "metadata": {},
   "outputs": [],
   "source": [
    "# Load the data from a CSV file\n",
    "df = pd.read_csv('C:/Users/admin/Desktop/stat/df.csv')"
   ]
  },
  {
   "cell_type": "code",
   "execution_count": 56,
   "id": "5345cdb0",
   "metadata": {},
   "outputs": [
    {
     "data": {
      "text/html": [
       "<div>\n",
       "<style scoped>\n",
       "    .dataframe tbody tr th:only-of-type {\n",
       "        vertical-align: middle;\n",
       "    }\n",
       "\n",
       "    .dataframe tbody tr th {\n",
       "        vertical-align: top;\n",
       "    }\n",
       "\n",
       "    .dataframe thead th {\n",
       "        text-align: right;\n",
       "    }\n",
       "</style>\n",
       "<table border=\"1\" class=\"dataframe\">\n",
       "  <thead>\n",
       "    <tr style=\"text-align: right;\">\n",
       "      <th></th>\n",
       "      <th>Batch No.</th>\n",
       "      <th>pH</th>\n",
       "    </tr>\n",
       "  </thead>\n",
       "  <tbody>\n",
       "    <tr>\n",
       "      <th>0</th>\n",
       "      <td>Sample 1</td>\n",
       "      <td>5.6</td>\n",
       "    </tr>\n",
       "    <tr>\n",
       "      <th>1</th>\n",
       "      <td>Sample 2</td>\n",
       "      <td>5.5</td>\n",
       "    </tr>\n",
       "    <tr>\n",
       "      <th>2</th>\n",
       "      <td>Sample 3</td>\n",
       "      <td>5.7</td>\n",
       "    </tr>\n",
       "  </tbody>\n",
       "</table>\n",
       "</div>"
      ],
      "text/plain": [
       "  Batch No.   pH\n",
       "0  Sample 1  5.6\n",
       "1  Sample 2  5.5\n",
       "2  Sample 3  5.7"
      ]
     },
     "execution_count": 56,
     "metadata": {},
     "output_type": "execute_result"
    }
   ],
   
  {
   "cell_type": "code",
   "execution_count": 40,
   "id": "a841b526",
   "metadata": {},
   "outputs": [
    {
     "data": {
      "text/html": [
       "<div>\n",
       "<style scoped>\n",
       "    .dataframe tbody tr th:only-of-type {\n",
       "        vertical-align: middle;\n",
       "    }\n",
       "\n",
       "    .dataframe tbody tr th {\n",
       "        vertical-align: top;\n",
       "    }\n",
       "\n",
       "    .dataframe thead th {\n",
       "        text-align: right;\n",
       "    }\n",
       "</style>\n",
       "<table border=\"1\" class=\"dataframe\">\n",
       "  <thead>\n",
       "    <tr style=\"text-align: right;\">\n",
       "      <th></th>\n",
       "      <th>Batch No.</th>\n",
       "      <th>pH</th>\n",
       "    </tr>\n",
       "  </thead>\n",
       "  <tbody>\n",
       "    <tr>\n",
       "      <th>0</th>\n",
       "      <td>Sample 1</td>\n",
       "      <td>5.6</td>\n",
       "    </tr>\n",
       "    <tr>\n",
       "      <th>1</th>\n",
       "      <td>Sample 2</td>\n",
       "      <td>5.5</td>\n",
       "    </tr>\n",
       "    <tr>\n",
       "      <th>2</th>\n",
       "      <td>Sample 3</td>\n",
       "      <td>5.7</td>\n",
       "    </tr>\n",
       "  </tbody>\n",
       "</table>\n",
       "</div>"
      ],
      "text/plain": [
       "  Batch No.   pH\n",
       "0  Sample 1  5.6\n",
       "1  Sample 2  5.5\n",
       "2  Sample 3  5.7"
      ]
     },
     "execution_count": 40,
     "metadata": {},
     "output_type": "execute_result"
    }
   ],
   "source": [
    "#Now you should check the normality of your data. I use Shapiro-Wilk Test, so we should import stats from scipy library.\n",
    "#Ti isntall it, Type and run \"python -m pip install scipy\" in your command.\n",
    "df.head()"
   ]
  },
  {
   "cell_type": "code",
   "execution_count": 57,
   "id": "958191c9",
   "metadata": {},
   "outputs": [
    {
     "name": "stdout",
     "output_type": "stream",
     "text": [
      "Shapiro-Wilk test result: ShapiroResult(statistic=0.9999999999999997, pvalue=0.9999999597527244)\n"
     ]
    }
   ],
   "source": [
    "# Perform a Shapiro-Wilk test to check the normality of the 'pH' data\n",
    "# Note: The Central Limit Theorem (CLT) states that for sample sizes of 30 or more, \n",
    "# the distribution of sample means approximates a normal distribution.\n",
    "result = shapiro(df['pH'])\n",
    "print(\"Shapiro-Wilk test result:\", result)"
   ]
  },
  
  {
   "cell_type": "code",
   "execution_count": 48,
   "id": "90f82ac6",
   "metadata": {},
   "outputs": [],
   "source": [
    "# If the p-value is > 0.05, the data is normally distributed.\n"
   ]
  },
  {
   "cell_type": "code",
   "execution_count": 58,
   "id": "b6344a8f",
   "metadata": {},
   "outputs": [
    {
     "name": "stdout",
     "output_type": "stream",
     "text": [
      "0.9999999999999891\n"
     ]
    }
   ],
   "source": [
    "# Perform a one-sample t-test to determine if the mean of 'pH' is significantly different from the hypothesized mean of 5.6\n",
    "t_statistic, p_value = ttest_1samp(df['pH'], 5.6)\n",
    "print(p_value)"
   ]
  },
  {
   "cell_type": "code",
   "execution_count": 52,
   "id": "052f088b",
   "metadata": {},
   "outputs": [
    {
     "name": "stdout",
     "output_type": "stream",
     "text": [
      "0.9999999999999891\n"
     ]
    }
   ],
   "source": [
    "#t_statistic, p_value = ttest_1samp(sample, population_mean)\n",
    "t_statistic, p_value = ttest_1samp(df['pH'], 5.6)\n",
    "print(p_value)\n"
   ]
  },
  {
   "cell_type": "code",
   "execution_count": 59,
   "id": "e9467adc",
   "metadata": {},
   "outputs": [],
   "source": [
    "# If the p-value is > 0.05, there is no significant difference between the mean of the samples and the population mean.\n"
   ]
  },
  {
   "cell_type": "code",
   "execution_count": null,
   "id": "d33aec49",
   "metadata": {},
   "outputs": [],
   "source": []
  }
 ],
 "metadata": {
  "kernelspec": {
   "display_name": "Python 3 (ipykernel)",
   "language": "python",
   "name": "python3"
  },
  "language_info": {
   "codemirror_mode": {
    "name": "ipython",
    "version": 3
   },
   "file_extension": ".py",
   "mimetype": "text/x-python",
   "name": "python",
   "nbconvert_exporter": "python",
   "pygments_lexer": "ipython3",
   "version": "3.11.4"
  }
 },
 "nbformat": 4,
 "nbformat_minor": 5
}
